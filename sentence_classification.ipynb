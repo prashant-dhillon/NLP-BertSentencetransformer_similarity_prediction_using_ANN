{
  "nbformat": 4,
  "nbformat_minor": 0,
  "metadata": {
    "colab": {
      "name": "sentence_classification.ipynb",
      "provenance": [],
      "collapsed_sections": []
    },
    "kernelspec": {
      "name": "python3",
      "display_name": "Python 3"
    },
    "language_info": {
      "name": "python"
    },
    "accelerator": "GPU",
    "widgets": {
      "application/vnd.jupyter.widget-state+json": {
        "fc82627dda7742cda2e96c82206b50a7": {
          "model_module": "@jupyter-widgets/controls",
          "model_name": "HBoxModel",
          "model_module_version": "1.5.0",
          "state": {
            "_view_name": "HBoxView",
            "_dom_classes": [],
            "_model_name": "HBoxModel",
            "_view_module": "@jupyter-widgets/controls",
            "_model_module_version": "1.5.0",
            "_view_count": null,
            "_view_module_version": "1.5.0",
            "box_style": "",
            "layout": "IPY_MODEL_bcdb4681d1724cecb0e4cd605e22c41e",
            "_model_module": "@jupyter-widgets/controls",
            "children": [
              "IPY_MODEL_1fdaaf12cccb4da28fc243117feb3ce9",
              "IPY_MODEL_bf7e21a27fa24cada85c58814af31585",
              "IPY_MODEL_0e027c427f074970b5adbd1c7a355000"
            ]
          }
        },
        "bcdb4681d1724cecb0e4cd605e22c41e": {
          "model_module": "@jupyter-widgets/base",
          "model_name": "LayoutModel",
          "model_module_version": "1.2.0",
          "state": {
            "_view_name": "LayoutView",
            "grid_template_rows": null,
            "right": null,
            "justify_content": null,
            "_view_module": "@jupyter-widgets/base",
            "overflow": null,
            "_model_module_version": "1.2.0",
            "_view_count": null,
            "flex_flow": null,
            "width": null,
            "min_width": null,
            "border": null,
            "align_items": null,
            "bottom": null,
            "_model_module": "@jupyter-widgets/base",
            "top": null,
            "grid_column": null,
            "overflow_y": null,
            "overflow_x": null,
            "grid_auto_flow": null,
            "grid_area": null,
            "grid_template_columns": null,
            "flex": null,
            "_model_name": "LayoutModel",
            "justify_items": null,
            "grid_row": null,
            "max_height": null,
            "align_content": null,
            "visibility": null,
            "align_self": null,
            "height": null,
            "min_height": null,
            "padding": null,
            "grid_auto_rows": null,
            "grid_gap": null,
            "max_width": null,
            "order": null,
            "_view_module_version": "1.2.0",
            "grid_template_areas": null,
            "object_position": null,
            "object_fit": null,
            "grid_auto_columns": null,
            "margin": null,
            "display": null,
            "left": null
          }
        },
        "1fdaaf12cccb4da28fc243117feb3ce9": {
          "model_module": "@jupyter-widgets/controls",
          "model_name": "HTMLModel",
          "model_module_version": "1.5.0",
          "state": {
            "_view_name": "HTMLView",
            "style": "IPY_MODEL_f2d0827cdd794c22b319895f8d3e90bf",
            "_dom_classes": [],
            "description": "",
            "_model_name": "HTMLModel",
            "placeholder": "​",
            "_view_module": "@jupyter-widgets/controls",
            "_model_module_version": "1.5.0",
            "value": "Epoch: 100%",
            "_view_count": null,
            "_view_module_version": "1.5.0",
            "description_tooltip": null,
            "_model_module": "@jupyter-widgets/controls",
            "layout": "IPY_MODEL_0727e0f607134e82bf8eda4564674035"
          }
        },
        "bf7e21a27fa24cada85c58814af31585": {
          "model_module": "@jupyter-widgets/controls",
          "model_name": "FloatProgressModel",
          "model_module_version": "1.5.0",
          "state": {
            "_view_name": "ProgressView",
            "style": "IPY_MODEL_345ccbf8ca0e4abd95948b63f0028f06",
            "_dom_classes": [],
            "description": "",
            "_model_name": "FloatProgressModel",
            "bar_style": "success",
            "max": 1,
            "_view_module": "@jupyter-widgets/controls",
            "_model_module_version": "1.5.0",
            "value": 1,
            "_view_count": null,
            "_view_module_version": "1.5.0",
            "orientation": "horizontal",
            "min": 0,
            "description_tooltip": null,
            "_model_module": "@jupyter-widgets/controls",
            "layout": "IPY_MODEL_28f714c5ea824ae881a5b9d25fc7668f"
          }
        },
        "0e027c427f074970b5adbd1c7a355000": {
          "model_module": "@jupyter-widgets/controls",
          "model_name": "HTMLModel",
          "model_module_version": "1.5.0",
          "state": {
            "_view_name": "HTMLView",
            "style": "IPY_MODEL_48a329941cca41df9d1018a60ba9fb41",
            "_dom_classes": [],
            "description": "",
            "_model_name": "HTMLModel",
            "placeholder": "​",
            "_view_module": "@jupyter-widgets/controls",
            "_model_module_version": "1.5.0",
            "value": " 1/1 [18:01&lt;00:00, 1081.74s/it]",
            "_view_count": null,
            "_view_module_version": "1.5.0",
            "description_tooltip": null,
            "_model_module": "@jupyter-widgets/controls",
            "layout": "IPY_MODEL_f139921f903e440192bb557a8870873a"
          }
        },
        "f2d0827cdd794c22b319895f8d3e90bf": {
          "model_module": "@jupyter-widgets/controls",
          "model_name": "DescriptionStyleModel",
          "model_module_version": "1.5.0",
          "state": {
            "_view_name": "StyleView",
            "_model_name": "DescriptionStyleModel",
            "description_width": "",
            "_view_module": "@jupyter-widgets/base",
            "_model_module_version": "1.5.0",
            "_view_count": null,
            "_view_module_version": "1.2.0",
            "_model_module": "@jupyter-widgets/controls"
          }
        },
        "0727e0f607134e82bf8eda4564674035": {
          "model_module": "@jupyter-widgets/base",
          "model_name": "LayoutModel",
          "model_module_version": "1.2.0",
          "state": {
            "_view_name": "LayoutView",
            "grid_template_rows": null,
            "right": null,
            "justify_content": null,
            "_view_module": "@jupyter-widgets/base",
            "overflow": null,
            "_model_module_version": "1.2.0",
            "_view_count": null,
            "flex_flow": null,
            "width": null,
            "min_width": null,
            "border": null,
            "align_items": null,
            "bottom": null,
            "_model_module": "@jupyter-widgets/base",
            "top": null,
            "grid_column": null,
            "overflow_y": null,
            "overflow_x": null,
            "grid_auto_flow": null,
            "grid_area": null,
            "grid_template_columns": null,
            "flex": null,
            "_model_name": "LayoutModel",
            "justify_items": null,
            "grid_row": null,
            "max_height": null,
            "align_content": null,
            "visibility": null,
            "align_self": null,
            "height": null,
            "min_height": null,
            "padding": null,
            "grid_auto_rows": null,
            "grid_gap": null,
            "max_width": null,
            "order": null,
            "_view_module_version": "1.2.0",
            "grid_template_areas": null,
            "object_position": null,
            "object_fit": null,
            "grid_auto_columns": null,
            "margin": null,
            "display": null,
            "left": null
          }
        },
        "345ccbf8ca0e4abd95948b63f0028f06": {
          "model_module": "@jupyter-widgets/controls",
          "model_name": "ProgressStyleModel",
          "model_module_version": "1.5.0",
          "state": {
            "_view_name": "StyleView",
            "_model_name": "ProgressStyleModel",
            "description_width": "",
            "_view_module": "@jupyter-widgets/base",
            "_model_module_version": "1.5.0",
            "_view_count": null,
            "_view_module_version": "1.2.0",
            "bar_color": null,
            "_model_module": "@jupyter-widgets/controls"
          }
        },
        "28f714c5ea824ae881a5b9d25fc7668f": {
          "model_module": "@jupyter-widgets/base",
          "model_name": "LayoutModel",
          "model_module_version": "1.2.0",
          "state": {
            "_view_name": "LayoutView",
            "grid_template_rows": null,
            "right": null,
            "justify_content": null,
            "_view_module": "@jupyter-widgets/base",
            "overflow": null,
            "_model_module_version": "1.2.0",
            "_view_count": null,
            "flex_flow": null,
            "width": null,
            "min_width": null,
            "border": null,
            "align_items": null,
            "bottom": null,
            "_model_module": "@jupyter-widgets/base",
            "top": null,
            "grid_column": null,
            "overflow_y": null,
            "overflow_x": null,
            "grid_auto_flow": null,
            "grid_area": null,
            "grid_template_columns": null,
            "flex": null,
            "_model_name": "LayoutModel",
            "justify_items": null,
            "grid_row": null,
            "max_height": null,
            "align_content": null,
            "visibility": null,
            "align_self": null,
            "height": null,
            "min_height": null,
            "padding": null,
            "grid_auto_rows": null,
            "grid_gap": null,
            "max_width": null,
            "order": null,
            "_view_module_version": "1.2.0",
            "grid_template_areas": null,
            "object_position": null,
            "object_fit": null,
            "grid_auto_columns": null,
            "margin": null,
            "display": null,
            "left": null
          }
        },
        "48a329941cca41df9d1018a60ba9fb41": {
          "model_module": "@jupyter-widgets/controls",
          "model_name": "DescriptionStyleModel",
          "model_module_version": "1.5.0",
          "state": {
            "_view_name": "StyleView",
            "_model_name": "DescriptionStyleModel",
            "description_width": "",
            "_view_module": "@jupyter-widgets/base",
            "_model_module_version": "1.5.0",
            "_view_count": null,
            "_view_module_version": "1.2.0",
            "_model_module": "@jupyter-widgets/controls"
          }
        },
        "f139921f903e440192bb557a8870873a": {
          "model_module": "@jupyter-widgets/base",
          "model_name": "LayoutModel",
          "model_module_version": "1.2.0",
          "state": {
            "_view_name": "LayoutView",
            "grid_template_rows": null,
            "right": null,
            "justify_content": null,
            "_view_module": "@jupyter-widgets/base",
            "overflow": null,
            "_model_module_version": "1.2.0",
            "_view_count": null,
            "flex_flow": null,
            "width": null,
            "min_width": null,
            "border": null,
            "align_items": null,
            "bottom": null,
            "_model_module": "@jupyter-widgets/base",
            "top": null,
            "grid_column": null,
            "overflow_y": null,
            "overflow_x": null,
            "grid_auto_flow": null,
            "grid_area": null,
            "grid_template_columns": null,
            "flex": null,
            "_model_name": "LayoutModel",
            "justify_items": null,
            "grid_row": null,
            "max_height": null,
            "align_content": null,
            "visibility": null,
            "align_self": null,
            "height": null,
            "min_height": null,
            "padding": null,
            "grid_auto_rows": null,
            "grid_gap": null,
            "max_width": null,
            "order": null,
            "_view_module_version": "1.2.0",
            "grid_template_areas": null,
            "object_position": null,
            "object_fit": null,
            "grid_auto_columns": null,
            "margin": null,
            "display": null,
            "left": null
          }
        },
        "37e6a1d5faff4ad98f59d0a589a092f9": {
          "model_module": "@jupyter-widgets/controls",
          "model_name": "HBoxModel",
          "model_module_version": "1.5.0",
          "state": {
            "_view_name": "HBoxView",
            "_dom_classes": [],
            "_model_name": "HBoxModel",
            "_view_module": "@jupyter-widgets/controls",
            "_model_module_version": "1.5.0",
            "_view_count": null,
            "_view_module_version": "1.5.0",
            "box_style": "",
            "layout": "IPY_MODEL_c71e1df3837843c6bd08a11e1b0230e6",
            "_model_module": "@jupyter-widgets/controls",
            "children": [
              "IPY_MODEL_1bf62f840af94127a9ea81d8f44f0ab4",
              "IPY_MODEL_65a362a95e8240d1a746e303c4487a88",
              "IPY_MODEL_b67fca5296364c5aad2dca45df50f898"
            ]
          }
        },
        "c71e1df3837843c6bd08a11e1b0230e6": {
          "model_module": "@jupyter-widgets/base",
          "model_name": "LayoutModel",
          "model_module_version": "1.2.0",
          "state": {
            "_view_name": "LayoutView",
            "grid_template_rows": null,
            "right": null,
            "justify_content": null,
            "_view_module": "@jupyter-widgets/base",
            "overflow": null,
            "_model_module_version": "1.2.0",
            "_view_count": null,
            "flex_flow": null,
            "width": null,
            "min_width": null,
            "border": null,
            "align_items": null,
            "bottom": null,
            "_model_module": "@jupyter-widgets/base",
            "top": null,
            "grid_column": null,
            "overflow_y": null,
            "overflow_x": null,
            "grid_auto_flow": null,
            "grid_area": null,
            "grid_template_columns": null,
            "flex": null,
            "_model_name": "LayoutModel",
            "justify_items": null,
            "grid_row": null,
            "max_height": null,
            "align_content": null,
            "visibility": null,
            "align_self": null,
            "height": null,
            "min_height": null,
            "padding": null,
            "grid_auto_rows": null,
            "grid_gap": null,
            "max_width": null,
            "order": null,
            "_view_module_version": "1.2.0",
            "grid_template_areas": null,
            "object_position": null,
            "object_fit": null,
            "grid_auto_columns": null,
            "margin": null,
            "display": null,
            "left": null
          }
        },
        "1bf62f840af94127a9ea81d8f44f0ab4": {
          "model_module": "@jupyter-widgets/controls",
          "model_name": "HTMLModel",
          "model_module_version": "1.5.0",
          "state": {
            "_view_name": "HTMLView",
            "style": "IPY_MODEL_4c6a744cf86d461794c6ddbf9e235f27",
            "_dom_classes": [],
            "description": "",
            "_model_name": "HTMLModel",
            "placeholder": "​",
            "_view_module": "@jupyter-widgets/controls",
            "_model_module_version": "1.5.0",
            "value": "Iteration: 100%",
            "_view_count": null,
            "_view_module_version": "1.5.0",
            "description_tooltip": null,
            "_model_module": "@jupyter-widgets/controls",
            "layout": "IPY_MODEL_9b682d49443b4d72a192bbc1db9edde9"
          }
        },
        "65a362a95e8240d1a746e303c4487a88": {
          "model_module": "@jupyter-widgets/controls",
          "model_name": "FloatProgressModel",
          "model_module_version": "1.5.0",
          "state": {
            "_view_name": "ProgressView",
            "style": "IPY_MODEL_35ece4361b9e4db3a0c25cc9ca1b4a7f",
            "_dom_classes": [],
            "description": "",
            "_model_name": "FloatProgressModel",
            "bar_style": "success",
            "max": 701,
            "_view_module": "@jupyter-widgets/controls",
            "_model_module_version": "1.5.0",
            "value": 701,
            "_view_count": null,
            "_view_module_version": "1.5.0",
            "orientation": "horizontal",
            "min": 0,
            "description_tooltip": null,
            "_model_module": "@jupyter-widgets/controls",
            "layout": "IPY_MODEL_6bfcbbe5709942918f6bd5856052df27"
          }
        },
        "b67fca5296364c5aad2dca45df50f898": {
          "model_module": "@jupyter-widgets/controls",
          "model_name": "HTMLModel",
          "model_module_version": "1.5.0",
          "state": {
            "_view_name": "HTMLView",
            "style": "IPY_MODEL_82460fb8b905471e895c94392f89d329",
            "_dom_classes": [],
            "description": "",
            "_model_name": "HTMLModel",
            "placeholder": "​",
            "_view_module": "@jupyter-widgets/controls",
            "_model_module_version": "1.5.0",
            "value": " 701/701 [17:57&lt;00:00,  1.26s/it]",
            "_view_count": null,
            "_view_module_version": "1.5.0",
            "description_tooltip": null,
            "_model_module": "@jupyter-widgets/controls",
            "layout": "IPY_MODEL_877453347034446ca7746a9fc76518a3"
          }
        },
        "4c6a744cf86d461794c6ddbf9e235f27": {
          "model_module": "@jupyter-widgets/controls",
          "model_name": "DescriptionStyleModel",
          "model_module_version": "1.5.0",
          "state": {
            "_view_name": "StyleView",
            "_model_name": "DescriptionStyleModel",
            "description_width": "",
            "_view_module": "@jupyter-widgets/base",
            "_model_module_version": "1.5.0",
            "_view_count": null,
            "_view_module_version": "1.2.0",
            "_model_module": "@jupyter-widgets/controls"
          }
        },
        "9b682d49443b4d72a192bbc1db9edde9": {
          "model_module": "@jupyter-widgets/base",
          "model_name": "LayoutModel",
          "model_module_version": "1.2.0",
          "state": {
            "_view_name": "LayoutView",
            "grid_template_rows": null,
            "right": null,
            "justify_content": null,
            "_view_module": "@jupyter-widgets/base",
            "overflow": null,
            "_model_module_version": "1.2.0",
            "_view_count": null,
            "flex_flow": null,
            "width": null,
            "min_width": null,
            "border": null,
            "align_items": null,
            "bottom": null,
            "_model_module": "@jupyter-widgets/base",
            "top": null,
            "grid_column": null,
            "overflow_y": null,
            "overflow_x": null,
            "grid_auto_flow": null,
            "grid_area": null,
            "grid_template_columns": null,
            "flex": null,
            "_model_name": "LayoutModel",
            "justify_items": null,
            "grid_row": null,
            "max_height": null,
            "align_content": null,
            "visibility": null,
            "align_self": null,
            "height": null,
            "min_height": null,
            "padding": null,
            "grid_auto_rows": null,
            "grid_gap": null,
            "max_width": null,
            "order": null,
            "_view_module_version": "1.2.0",
            "grid_template_areas": null,
            "object_position": null,
            "object_fit": null,
            "grid_auto_columns": null,
            "margin": null,
            "display": null,
            "left": null
          }
        },
        "35ece4361b9e4db3a0c25cc9ca1b4a7f": {
          "model_module": "@jupyter-widgets/controls",
          "model_name": "ProgressStyleModel",
          "model_module_version": "1.5.0",
          "state": {
            "_view_name": "StyleView",
            "_model_name": "ProgressStyleModel",
            "description_width": "",
            "_view_module": "@jupyter-widgets/base",
            "_model_module_version": "1.5.0",
            "_view_count": null,
            "_view_module_version": "1.2.0",
            "bar_color": null,
            "_model_module": "@jupyter-widgets/controls"
          }
        },
        "6bfcbbe5709942918f6bd5856052df27": {
          "model_module": "@jupyter-widgets/base",
          "model_name": "LayoutModel",
          "model_module_version": "1.2.0",
          "state": {
            "_view_name": "LayoutView",
            "grid_template_rows": null,
            "right": null,
            "justify_content": null,
            "_view_module": "@jupyter-widgets/base",
            "overflow": null,
            "_model_module_version": "1.2.0",
            "_view_count": null,
            "flex_flow": null,
            "width": null,
            "min_width": null,
            "border": null,
            "align_items": null,
            "bottom": null,
            "_model_module": "@jupyter-widgets/base",
            "top": null,
            "grid_column": null,
            "overflow_y": null,
            "overflow_x": null,
            "grid_auto_flow": null,
            "grid_area": null,
            "grid_template_columns": null,
            "flex": null,
            "_model_name": "LayoutModel",
            "justify_items": null,
            "grid_row": null,
            "max_height": null,
            "align_content": null,
            "visibility": null,
            "align_self": null,
            "height": null,
            "min_height": null,
            "padding": null,
            "grid_auto_rows": null,
            "grid_gap": null,
            "max_width": null,
            "order": null,
            "_view_module_version": "1.2.0",
            "grid_template_areas": null,
            "object_position": null,
            "object_fit": null,
            "grid_auto_columns": null,
            "margin": null,
            "display": null,
            "left": null
          }
        },
        "82460fb8b905471e895c94392f89d329": {
          "model_module": "@jupyter-widgets/controls",
          "model_name": "DescriptionStyleModel",
          "model_module_version": "1.5.0",
          "state": {
            "_view_name": "StyleView",
            "_model_name": "DescriptionStyleModel",
            "description_width": "",
            "_view_module": "@jupyter-widgets/base",
            "_model_module_version": "1.5.0",
            "_view_count": null,
            "_view_module_version": "1.2.0",
            "_model_module": "@jupyter-widgets/controls"
          }
        },
        "877453347034446ca7746a9fc76518a3": {
          "model_module": "@jupyter-widgets/base",
          "model_name": "LayoutModel",
          "model_module_version": "1.2.0",
          "state": {
            "_view_name": "LayoutView",
            "grid_template_rows": null,
            "right": null,
            "justify_content": null,
            "_view_module": "@jupyter-widgets/base",
            "overflow": null,
            "_model_module_version": "1.2.0",
            "_view_count": null,
            "flex_flow": null,
            "width": null,
            "min_width": null,
            "border": null,
            "align_items": null,
            "bottom": null,
            "_model_module": "@jupyter-widgets/base",
            "top": null,
            "grid_column": null,
            "overflow_y": null,
            "overflow_x": null,
            "grid_auto_flow": null,
            "grid_area": null,
            "grid_template_columns": null,
            "flex": null,
            "_model_name": "LayoutModel",
            "justify_items": null,
            "grid_row": null,
            "max_height": null,
            "align_content": null,
            "visibility": null,
            "align_self": null,
            "height": null,
            "min_height": null,
            "padding": null,
            "grid_auto_rows": null,
            "grid_gap": null,
            "max_width": null,
            "order": null,
            "_view_module_version": "1.2.0",
            "grid_template_areas": null,
            "object_position": null,
            "object_fit": null,
            "grid_auto_columns": null,
            "margin": null,
            "display": null,
            "left": null
          }
        }
      }
    }
  },
  "cells": [
    {
      "cell_type": "code",
      "metadata": {
        "id": "NIYX_5IJt9a7",
        "colab": {
          "base_uri": "https://localhost:8080/"
        },
        "outputId": "ddd5e7f6-919a-46f6-ad6f-c7a283bae3f0"
      },
      "source": [
        "import os\n",
        "import torch\n",
        "import random\n",
        "import torch.nn as nn\n",
        "import numpy as np\n",
        "import bisect\n",
        "from sklearn.datasets import fetch_20newsgroups\n",
        "from torch.utils.data import DataLoader, Dataset\n",
        "!pip install transformers==3.0.2\n",
        "!pip install sentence-transformers==0.3.3"
      ],
      "execution_count": 10,
      "outputs": [
        {
          "output_type": "stream",
          "name": "stdout",
          "text": [
            "Requirement already satisfied: transformers==3.0.2 in /usr/local/lib/python3.7/dist-packages (3.0.2)\n",
            "Requirement already satisfied: tqdm>=4.27 in /usr/local/lib/python3.7/dist-packages (from transformers==3.0.2) (4.62.3)\n",
            "Requirement already satisfied: regex!=2019.12.17 in /usr/local/lib/python3.7/dist-packages (from transformers==3.0.2) (2019.12.20)\n",
            "Requirement already satisfied: tokenizers==0.8.1.rc1 in /usr/local/lib/python3.7/dist-packages (from transformers==3.0.2) (0.8.1rc1)\n",
            "Requirement already satisfied: requests in /usr/local/lib/python3.7/dist-packages (from transformers==3.0.2) (2.23.0)\n",
            "Requirement already satisfied: filelock in /usr/local/lib/python3.7/dist-packages (from transformers==3.0.2) (3.3.0)\n",
            "Requirement already satisfied: numpy in /usr/local/lib/python3.7/dist-packages (from transformers==3.0.2) (1.19.5)\n",
            "Requirement already satisfied: sentencepiece!=0.1.92 in /usr/local/lib/python3.7/dist-packages (from transformers==3.0.2) (0.1.96)\n",
            "Requirement already satisfied: sacremoses in /usr/local/lib/python3.7/dist-packages (from transformers==3.0.2) (0.0.46)\n",
            "Requirement already satisfied: packaging in /usr/local/lib/python3.7/dist-packages (from transformers==3.0.2) (21.0)\n",
            "Requirement already satisfied: pyparsing>=2.0.2 in /usr/local/lib/python3.7/dist-packages (from packaging->transformers==3.0.2) (2.4.7)\n",
            "Requirement already satisfied: chardet<4,>=3.0.2 in /usr/local/lib/python3.7/dist-packages (from requests->transformers==3.0.2) (3.0.4)\n",
            "Requirement already satisfied: urllib3!=1.25.0,!=1.25.1,<1.26,>=1.21.1 in /usr/local/lib/python3.7/dist-packages (from requests->transformers==3.0.2) (1.24.3)\n",
            "Requirement already satisfied: idna<3,>=2.5 in /usr/local/lib/python3.7/dist-packages (from requests->transformers==3.0.2) (2.10)\n",
            "Requirement already satisfied: certifi>=2017.4.17 in /usr/local/lib/python3.7/dist-packages (from requests->transformers==3.0.2) (2021.5.30)\n",
            "Requirement already satisfied: click in /usr/local/lib/python3.7/dist-packages (from sacremoses->transformers==3.0.2) (7.1.2)\n",
            "Requirement already satisfied: joblib in /usr/local/lib/python3.7/dist-packages (from sacremoses->transformers==3.0.2) (1.0.1)\n",
            "Requirement already satisfied: six in /usr/local/lib/python3.7/dist-packages (from sacremoses->transformers==3.0.2) (1.15.0)\n",
            "Requirement already satisfied: sentence-transformers==0.3.3 in /usr/local/lib/python3.7/dist-packages (0.3.3)\n",
            "Requirement already satisfied: tqdm in /usr/local/lib/python3.7/dist-packages (from sentence-transformers==0.3.3) (4.62.3)\n",
            "Requirement already satisfied: nltk in /usr/local/lib/python3.7/dist-packages (from sentence-transformers==0.3.3) (3.2.5)\n",
            "Requirement already satisfied: torch>=1.2.0 in /usr/local/lib/python3.7/dist-packages (from sentence-transformers==0.3.3) (1.9.0+cu111)\n",
            "Requirement already satisfied: numpy in /usr/local/lib/python3.7/dist-packages (from sentence-transformers==0.3.3) (1.19.5)\n",
            "Requirement already satisfied: transformers>=3.0.2 in /usr/local/lib/python3.7/dist-packages (from sentence-transformers==0.3.3) (3.0.2)\n",
            "Requirement already satisfied: scipy in /usr/local/lib/python3.7/dist-packages (from sentence-transformers==0.3.3) (1.4.1)\n",
            "Requirement already satisfied: scikit-learn in /usr/local/lib/python3.7/dist-packages (from sentence-transformers==0.3.3) (0.22.2.post1)\n",
            "Requirement already satisfied: typing-extensions in /usr/local/lib/python3.7/dist-packages (from torch>=1.2.0->sentence-transformers==0.3.3) (3.7.4.3)\n",
            "Requirement already satisfied: sacremoses in /usr/local/lib/python3.7/dist-packages (from transformers>=3.0.2->sentence-transformers==0.3.3) (0.0.46)\n",
            "Requirement already satisfied: tokenizers==0.8.1.rc1 in /usr/local/lib/python3.7/dist-packages (from transformers>=3.0.2->sentence-transformers==0.3.3) (0.8.1rc1)\n",
            "Requirement already satisfied: filelock in /usr/local/lib/python3.7/dist-packages (from transformers>=3.0.2->sentence-transformers==0.3.3) (3.3.0)\n",
            "Requirement already satisfied: requests in /usr/local/lib/python3.7/dist-packages (from transformers>=3.0.2->sentence-transformers==0.3.3) (2.23.0)\n",
            "Requirement already satisfied: regex!=2019.12.17 in /usr/local/lib/python3.7/dist-packages (from transformers>=3.0.2->sentence-transformers==0.3.3) (2019.12.20)\n",
            "Requirement already satisfied: sentencepiece!=0.1.92 in /usr/local/lib/python3.7/dist-packages (from transformers>=3.0.2->sentence-transformers==0.3.3) (0.1.96)\n",
            "Requirement already satisfied: packaging in /usr/local/lib/python3.7/dist-packages (from transformers>=3.0.2->sentence-transformers==0.3.3) (21.0)\n",
            "Requirement already satisfied: six in /usr/local/lib/python3.7/dist-packages (from nltk->sentence-transformers==0.3.3) (1.15.0)\n",
            "Requirement already satisfied: pyparsing>=2.0.2 in /usr/local/lib/python3.7/dist-packages (from packaging->transformers>=3.0.2->sentence-transformers==0.3.3) (2.4.7)\n",
            "Requirement already satisfied: chardet<4,>=3.0.2 in /usr/local/lib/python3.7/dist-packages (from requests->transformers>=3.0.2->sentence-transformers==0.3.3) (3.0.4)\n",
            "Requirement already satisfied: urllib3!=1.25.0,!=1.25.1,<1.26,>=1.21.1 in /usr/local/lib/python3.7/dist-packages (from requests->transformers>=3.0.2->sentence-transformers==0.3.3) (1.24.3)\n",
            "Requirement already satisfied: idna<3,>=2.5 in /usr/local/lib/python3.7/dist-packages (from requests->transformers>=3.0.2->sentence-transformers==0.3.3) (2.10)\n",
            "Requirement already satisfied: certifi>=2017.4.17 in /usr/local/lib/python3.7/dist-packages (from requests->transformers>=3.0.2->sentence-transformers==0.3.3) (2021.5.30)\n",
            "Requirement already satisfied: click in /usr/local/lib/python3.7/dist-packages (from sacremoses->transformers>=3.0.2->sentence-transformers==0.3.3) (7.1.2)\n",
            "Requirement already satisfied: joblib in /usr/local/lib/python3.7/dist-packages (from sacremoses->transformers>=3.0.2->sentence-transformers==0.3.3) (1.0.1)\n"
          ]
        }
      ]
    },
    {
      "cell_type": "code",
      "metadata": {
        "colab": {
          "base_uri": "https://localhost:8080/"
        },
        "id": "lYyUnKuNyFZz",
        "outputId": "37070238-ef5c-4c4c-a677-69b5120772a5"
      },
      "source": [
        "torch.manual_seed(2020)\n",
        "np.random.seed(2020)\n",
        "random.seed(2020)\n",
        "device = torch.device(\"cuda\" if torch.cuda.is_available() else \"cpu\")\n",
        "print(device)\n",
        "\n",
        "if device.type == \"cuda\":\n",
        "    print(torch.cuda.get_device_name())"
      ],
      "execution_count": 11,
      "outputs": [
        {
          "output_type": "stream",
          "name": "stdout",
          "text": [
            "cuda\n",
            "Tesla K80\n"
          ]
        }
      ]
    },
    {
      "cell_type": "code",
      "metadata": {
        "id": "7qUx2qv0WyE_"
      },
      "source": [
        "from sentence_transformers import SentenceTransformer\n",
        "from sentence_transformers import evaluation\n",
        "import random\n",
        "from collections import defaultdict"
      ],
      "execution_count": 12,
      "outputs": []
    },
    {
      "cell_type": "code",
      "metadata": {
        "id": "KTDKpv9KxYTZ"
      },
      "source": [
        "model = SentenceTransformer('distilbert-base-nli-mean-tokens')"
      ],
      "execution_count": 13,
      "outputs": []
    },
    {
      "cell_type": "code",
      "metadata": {
        "id": "q59I7PN96Myg"
      },
      "source": [
        "newsgroups_train = fetch_20newsgroups(subset='train', remove=('headers', 'footers', 'quotes'))\n",
        "newsgroups_test = fetch_20newsgroups(subset='test', remove=('headers', 'footers', 'quotes'))"
      ],
      "execution_count": 14,
      "outputs": []
    },
    {
      "cell_type": "code",
      "metadata": {
        "colab": {
          "base_uri": "https://localhost:8080/"
        },
        "id": "wens-AY6erQ9",
        "outputId": "dcbdb1f0-3341-4f36-b231-ae2b34847c2d"
      },
      "source": [
        "from google.colab import drive\n",
        "drive.mount('/content/drive')"
      ],
      "execution_count": 15,
      "outputs": [
        {
          "output_type": "stream",
          "name": "stdout",
          "text": [
            "Drive already mounted at /content/drive; to attempt to forcibly remount, call drive.mount(\"/content/drive\", force_remount=True).\n"
          ]
        }
      ]
    },
    {
      "cell_type": "code",
      "metadata": {
        "colab": {
          "base_uri": "https://localhost:8080/"
        },
        "id": "IVAcCF5e7TKf",
        "outputId": "edf130e7-dd18-49c8-fa8b-3767a1160559"
      },
      "source": [
        "newsgroups_train.target.shape\n",
        "newsgroups_train.target[:10]"
      ],
      "execution_count": 16,
      "outputs": [
        {
          "output_type": "execute_result",
          "data": {
            "text/plain": [
              "array([ 7,  4,  4,  1, 14, 16, 13,  3,  2,  4])"
            ]
          },
          "metadata": {},
          "execution_count": 16
        }
      ]
    },
    {
      "cell_type": "code",
      "metadata": {
        "id": "dXmm_B6P2epQ"
      },
      "source": [
        "from sentence_transformers.readers import InputExample\n",
        "from tqdm import tqdm"
      ],
      "execution_count": 17,
      "outputs": []
    },
    {
      "cell_type": "code",
      "metadata": {
        "id": "nMlNZfgrI-Xo"
      },
      "source": [
        "class TripletDataLoader(Dataset):\n",
        "  \"\"\"\n",
        "  custom loading class, compatible with Pytorch DataLoader, that generates training triplets (anchor, positive example negative example) from 20 Newsgroups \n",
        "\n",
        "  \"\"\"\n",
        "    def __init__(self, model, chunk_size=1000, get_positive=True, get_negative=True):\n",
        "\n",
        "        super(TripletDataLoader, self).__init__()\n",
        "        self.grouped_inputs = []\n",
        "        self.model = model\n",
        "        self.num_labels = 0\n",
        "        self.max_processes = min(max_processes, cpu_count())\n",
        "        self.chunk_size = chunk_size\n",
        "        self.groups_right_border = []\n",
        "        self.grouped_labels = []\n",
        "\n",
        "  \n",
        "        # fetching dataset into train, dev, test\n",
        "        group_items = []\n",
        "        trainset = \"train\"\n",
        "        testset = \"test\"\n",
        "        validation_rate = 0.01\n",
        "        for name in [trainset, testset]:\n",
        "            file = fetch_20newsgroups(subset=name, remove=(\n",
        "                'headers', 'footers', 'quotes'), shuffle=True)\n",
        "\n",
        "            examples = []\n",
        "            guid = 1\n",
        "            # retriving text data and target sample\n",
        "            for text, target in zip(file.data, file.target):\n",
        "                guid += 1\n",
        "                examples.append(InputExample(\n",
        "                    guid=guid, texts=[text], label=target))\n",
        "            group_items.append(examples)\n",
        "\n",
        "        train_set, test_set = group_items\n",
        "        dev_set = None\n",
        "\n",
        "        if validation_rate > 0:\n",
        "            size = int(len(train_set) * validation_rate)\n",
        "            dev_set = train_set[-size:]\n",
        "            train_set = train_set[:-size]\n",
        "\n",
        "        self.dataset = train_set, dev_set, test_set\n",
        "\n",
        "        self.prepare_traindataset(self.dataset[0], model)\n",
        "        self.idxs = np.arange(len(self.grouped_inputs))\n",
        "\n",
        "        self.get_positive = get_positive\n",
        "        self.get_negative = get_negative\n",
        "\n",
        "\n",
        "    def prepare_traindataset(self, examples, model):\n",
        "      \"\"\"\n",
        "      main logic to prepare the training triplets from dataset by limiting the one sentance per class\n",
        "      \"\"\"\n",
        "        inputs = []\n",
        "        labels = []\n",
        "        label_sent_mapping = {}\n",
        "        s = 0\n",
        "        label_type = None\n",
        "\n",
        "        print(\"Start tokenization\")\n",
        "        tokenized_texts = [self.tokenize_example(example) for example in examples]\n",
        "        \n",
        "        for ex_index, example in enumerate(tqdm(examples, desc=\"Convert dataset\")):\n",
        "            if label_type is None:\n",
        "                if isinstance(example.label, int):\n",
        "                    label_type = torch.long\n",
        "                elif isinstance(example.label, float):\n",
        "                    label_type = torch.float\n",
        "            tokenized_text = tokenized_texts[ex_index][0]\n",
        "            # if attribute max_seq_length is available and valid\n",
        "            if hasattr(self.model, 'max_seq_length') and self.model.max_seq_length is not None and self.model.max_seq_length > 0 and len(tokenized_text) > self.model.max_seq_length:\n",
        "                s += 1\n",
        "\n",
        "            if example.label in label_sent_mapping:\n",
        "                label_sent_mapping[example.label].append(ex_index)\n",
        "            else:\n",
        "                label_sent_mapping[example.label] = [ex_index]\n",
        "\n",
        "            inputs.append(tokenized_text)\n",
        "            labels.append(example.label)\n",
        "\n",
        "        distinct_labels = list(label_sent_mapping.keys())\n",
        "        for i in range(len(distinct_labels)):\n",
        "            label = distinct_labels[i]\n",
        "            if len(label_sent_mapping[label]) >= 2:\n",
        "                self.grouped_inputs.extend(\n",
        "                    [inputs[j] for j in label_sent_mapping[label]])\n",
        "                self.grouped_labels.extend(\n",
        "                    [labels[j] for j in label_sent_mapping[label]])\n",
        "                self.groups_right_border.append(len(self.grouped_inputs))\n",
        "                self.num_labels += 1\n",
        "\n",
        "        self.grouped_labels = torch.tensor(\n",
        "            self.grouped_labels, dtype=label_type)\n",
        "\n",
        "    def tokenize_example(self, example):\n",
        "        return [self.model.tokenize(text) for text in example.texts]\n",
        "\n",
        "    def __getitem__(self, item):\n",
        "        if not self.get_positive and not self.get_negative:\n",
        "            return [self.grouped_inputs[item]], self.grouped_labels[item]\n",
        "\n",
        "        anchor = self.grouped_inputs[item]\n",
        "        group_idx = bisect.bisect_right(self.groups_right_border, item)\n",
        "        left_border = 0 if group_idx == 0 else self.groups_right_border[group_idx - 1]\n",
        "        right_border = self.groups_right_border[group_idx]\n",
        "\n",
        "        if self.get_positive:\n",
        "            positive_item_idx = np.random.choice(np.concatenate(\n",
        "                [self.idxs[left_border:item], self.idxs[item + 1:right_border]]))\n",
        "            positive = self.grouped_inputs[positive_item_idx]\n",
        "        else:\n",
        "            positive = []\n",
        "\n",
        "        if self.get_negative:\n",
        "            negative_item_idx = np.random.choice(np.concatenate(\n",
        "                [self.idxs[0:left_border], self.idxs[right_border:]]))\n",
        "            negative = self.grouped_inputs[negative_item_idx]\n",
        "        else:\n",
        "            negative = []\n",
        "\n",
        "        return [anchor, positive, negative], self.grouped_labels[item]\n",
        "\n",
        "    def __len__(self):\n",
        "        return len(self.grouped_inputs)\n",
        "\n",
        "\n",
        "\n",
        "def generate_triplets_from_dataset(input_examples):\n",
        "    \"\"\"\n",
        "    generate triplets for each anchor input by taking positive sample from same class and negative sample from any of rest of the classes except anchor\n",
        "    \"\"\"\n",
        "    triplets = []\n",
        "    label2sentence = defaultdict(list)\n",
        "    for example in input_examples:\n",
        "        label2sentence[example.label].append(example)\n",
        "    \n",
        "    for example in input_examples:\n",
        "        anchor = example\n",
        "\n",
        "        if len(label2sentence[example.label]) < 2:\n",
        "            continue\n",
        "\n",
        "        positive = None\n",
        "        while positive is None or positive.guid == anchor.guid:\n",
        "            positive = random.choice(label2sentence[example.label])\n",
        "\n",
        "        negative = None\n",
        "        while negative is None or negative.label == anchor.label:\n",
        "           negative = random.choice(input_examples)\n",
        "\n",
        "        triplets.append(InputExample(texts=[anchor.texts[0], positive.texts[0], negative.texts[0]]))\n",
        "\n",
        "    return triplets"
      ],
      "execution_count": 20,
      "outputs": []
    },
    {
      "cell_type": "code",
      "metadata": {
        "id": "bMsb9aEq_t04",
        "colab": {
          "base_uri": "https://localhost:8080/"
        },
        "outputId": "924fe472-df72-4be6-ca87-25abddc6e7b5"
      },
      "source": [
        "train_ds = TripletDataLoader(model,get_positive=True, get_negative=True)"
      ],
      "execution_count": 21,
      "outputs": [
        {
          "output_type": "stream",
          "name": "stdout",
          "text": [
            "Start tokenization\n"
          ]
        },
        {
          "output_type": "stream",
          "name": "stderr",
          "text": [
            "Convert dataset: 100%|██████████| 11201/11201 [00:00<00:00, 305660.99it/s]\n"
          ]
        }
      ]
    },
    {
      "cell_type": "code",
      "metadata": {
        "id": "Ky7OfsVw5Jap"
      },
      "source": [
        "train_loader = DataLoader(train_ds, shuffle=True, batch_size=16)"
      ],
      "execution_count": 22,
      "outputs": []
    },
    {
      "cell_type": "code",
      "metadata": {
        "id": "zZFyDiovOW9O"
      },
      "source": [
        ""
      ],
      "execution_count": 23,
      "outputs": []
    },
    {
      "cell_type": "code",
      "metadata": {
        "id": "eqdcEZxUOxH5"
      },
      "source": [
        "train_loss = nn.TripletMarginLoss(margin=1.0)"
      ],
      "execution_count": 24,
      "outputs": []
    },
    {
      "cell_type": "code",
      "metadata": {
        "id": "rUOmYrY_7wBe"
      },
      "source": [
        "from sentence_transformers.evaluation import TripletEvaluator"
      ],
      "execution_count": 25,
      "outputs": []
    },
    {
      "cell_type": "code",
      "metadata": {
        "id": "JybOOIz0U-pF"
      },
      "source": [
        "dev_set = train_ds.dataset[1]\n",
        "dev_evaluator = TripletEvaluator.from_input_examples(generate_triplets_from_dataset(dev_set),  name='dev')"
      ],
      "execution_count": 26,
      "outputs": []
    },
    {
      "cell_type": "code",
      "metadata": {
        "id": "EiqhYpHZ-a3R"
      },
      "source": [
        "from sentence_transformers import LoggingHandler, losses\n",
        "train_loss = losses.TripletLoss(model)"
      ],
      "execution_count": 27,
      "outputs": []
    },
    {
      "cell_type": "code",
      "metadata": {
        "colab": {
          "base_uri": "https://localhost:8080/",
          "height": 35
        },
        "id": "0hrE84FwynwB",
        "outputId": "c66f8118-a621-4627-a1d0-a7cf1bfcf198"
      },
      "source": [
        "os.getcwd()"
      ],
      "execution_count": 29,
      "outputs": [
        {
          "output_type": "execute_result",
          "data": {
            "application/vnd.google.colaboratory.intrinsic+json": {
              "type": "string"
            },
            "text/plain": [
              "'/content'"
            ]
          },
          "metadata": {},
          "execution_count": 29
        }
      ]
    },
    {
      "cell_type": "code",
      "metadata": {
        "id": "QdyI6YulyhVG"
      },
      "source": [
        "import os\n",
        "os.chdir(\"/content/drive/MyDrive/vocads_models\")"
      ],
      "execution_count": 31,
      "outputs": []
    },
    {
      "cell_type": "code",
      "metadata": {
        "colab": {
          "base_uri": "https://localhost:8080/",
          "height": 81,
          "referenced_widgets": [
            "fc82627dda7742cda2e96c82206b50a7",
            "bcdb4681d1724cecb0e4cd605e22c41e",
            "1fdaaf12cccb4da28fc243117feb3ce9",
            "bf7e21a27fa24cada85c58814af31585",
            "0e027c427f074970b5adbd1c7a355000",
            "f2d0827cdd794c22b319895f8d3e90bf",
            "0727e0f607134e82bf8eda4564674035",
            "345ccbf8ca0e4abd95948b63f0028f06",
            "28f714c5ea824ae881a5b9d25fc7668f",
            "48a329941cca41df9d1018a60ba9fb41",
            "f139921f903e440192bb557a8870873a",
            "37e6a1d5faff4ad98f59d0a589a092f9",
            "c71e1df3837843c6bd08a11e1b0230e6",
            "1bf62f840af94127a9ea81d8f44f0ab4",
            "65a362a95e8240d1a746e303c4487a88",
            "b67fca5296364c5aad2dca45df50f898",
            "4c6a744cf86d461794c6ddbf9e235f27",
            "9b682d49443b4d72a192bbc1db9edde9",
            "35ece4361b9e4db3a0c25cc9ca1b4a7f",
            "6bfcbbe5709942918f6bd5856052df27",
            "82460fb8b905471e895c94392f89d329",
            "877453347034446ca7746a9fc76518a3"
          ]
        },
        "id": "XqJklUDAQSqG",
        "outputId": "794a3cb1-b7b3-4777-ac31-520da2be052e"
      },
      "source": [
        "warmup_steps = int(len(train_loader) * 1 / 8 * 0.1) \n",
        "\n",
        "model.fit(train_objectives=[(train_loader, train_loss)],\n",
        "          evaluator=dev_evaluator,\n",
        "          epochs=1,\n",
        "          evaluation_steps=1000,\n",
        "          warmup_steps=warmup_steps,\n",
        "          output_path=\"/content/drive/MyDrive/vocads_models/fine_tune_distilbert_nli_mean_token_\")"
      ],
      "execution_count": 33,
      "outputs": [
        {
          "output_type": "display_data",
          "data": {
            "application/vnd.jupyter.widget-view+json": {
              "model_id": "fc82627dda7742cda2e96c82206b50a7",
              "version_minor": 0,
              "version_major": 2
            },
            "text/plain": [
              "Epoch:   0%|          | 0/1 [00:00<?, ?it/s]"
            ]
          },
          "metadata": {}
        },
        {
          "output_type": "display_data",
          "data": {
            "application/vnd.jupyter.widget-view+json": {
              "model_id": "37e6a1d5faff4ad98f59d0a589a092f9",
              "version_minor": 0,
              "version_major": 2
            },
            "text/plain": [
              "Iteration:   0%|          | 0/701 [00:00<?, ?it/s]"
            ]
          },
          "metadata": {}
        }
      ]
    },
    {
      "cell_type": "code",
      "metadata": {
        "id": "3vo6xOhKKPSO"
      },
      "source": [
        ""
      ],
      "execution_count": null,
      "outputs": []
    },
    {
      "cell_type": "code",
      "metadata": {
        "id": "6cR1sSpYekYL"
      },
      "source": [
        ""
      ],
      "execution_count": null,
      "outputs": []
    }
  ]
}